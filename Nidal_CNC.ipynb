{
  "nbformat": 4,
  "nbformat_minor": 0,
  "metadata": {
    "colab": {
      "name": "Nidal_CNC.ipynb",
      "provenance": [],
      "collapsed_sections": [],
      "include_colab_link": true
    },
    "kernelspec": {
      "name": "python3",
      "display_name": "Python 3"
    }
  },
  "cells": [
    {
      "cell_type": "markdown",
      "metadata": {
        "id": "view-in-github",
        "colab_type": "text"
      },
      "source": [
        "<a href=\"https://colab.research.google.com/github/NidalMartinsAli/PythonCNC/blob/master/Nidal_CNC.ipynb\" target=\"_parent\"><img src=\"https://colab.research.google.com/assets/colab-badge.svg\" alt=\"Open In Colab\"/></a>"
      ]
    },
    {
      "cell_type": "markdown",
      "metadata": {
        "id": "w1QqX0RYGeXp",
        "colab_type": "text"
      },
      "source": [
        "Bissecção\n"
      ]
    },
    {
      "cell_type": "code",
      "metadata": {
        "id": "1zAtGfS_GYsK",
        "colab_type": "code",
        "colab": {
          "base_uri": "https://localhost:8080/",
          "height": 318
        },
        "outputId": "fbb81df8-fc16-4715-e91e-6d0b68568e67"
      },
      "source": [
        "\n",
        "import math \n",
        "#dados de entrada\n",
        "a = 2\n",
        "b = 3\n",
        "e = 0.0000001\n",
        "c = 0\n",
        "\n",
        "def func(x):\n",
        "\t\n",
        "\t#return  -12 - (21 * x) + (18 * math.pow(x,2)) - (2.75 * math.pow(x,3)) # exercicio 1\n",
        "\t#return math.log(x*x) - 0.7 # exercicio 2\n",
        "\t#return (0.95 * math.pow(x,3)) - (5.9 * math.pow(x,2)) + (10.9 * x) - 6 # (exercicio 3)\n",
        "\t #return (8 * math.sin(x)) * (math.e**(-x)) - 1 # (exercicio 4)\n",
        "\t#return math.pow(x,5) - ((10/3) * math.pow(x,3)) + ((5/21) * x) # (exercicio 5)\n",
        "\t#return  math.exp(-x**2) - math.cos(x)  # (exercicio 6a)\n",
        "\t#return  x**3 - x -1 # (exercicio 6b)\n",
        "\t#return\t4 * math.sin(x) - math.exp(x) # (exercicios 6c)\n",
        "\treturn\t(x * math.log(x)) - 1 # (exericicios 6d)\n",
        "\n",
        "def iteraçao():\n",
        "\tglobal a,b,c\n",
        "\t\n",
        "\tc = (a+b)/2\n",
        "\t\n",
        "\tproduto = func(a)*func(c)\n",
        "\tif produto > 0:\n",
        "\t\ta = c\n",
        "\telse:\n",
        "\t\tif produto < 0:\n",
        "\t\t\tb = c\n",
        "\tprint('Aproximacao: {:.4f}'.format(c)) \n",
        "\treturn c\n",
        "\n",
        "def bis():\n",
        "\n",
        "\tglobal a,b,c\n",
        "\n",
        "\tc = iteraçao()\n",
        "\tcount=1\n",
        "\t\n",
        "\twhile(abs(func(c))>=e):\n",
        "\t   c = iteraçao()\n",
        "\t   count+=1\n",
        "\t   if(count==15):\n",
        "\t  \t\tbreak\n",
        "\treturn count,c\n",
        "\n",
        "\n",
        "resposta = bis()\n",
        "print(\"Raiz:  {:.4f}\".format(resposta[1]))\n",
        "print(\"Iterações: \", resposta[0])"
      ],
      "execution_count": null,
      "outputs": [
        {
          "output_type": "stream",
          "text": [
            "Aproximacao: 2.5000\n",
            "Aproximacao: 2.7500\n",
            "Aproximacao: 2.8750\n",
            "Aproximacao: 2.9375\n",
            "Aproximacao: 2.9688\n",
            "Aproximacao: 2.9844\n",
            "Aproximacao: 2.9922\n",
            "Aproximacao: 2.9961\n",
            "Aproximacao: 2.9980\n",
            "Aproximacao: 2.9990\n",
            "Aproximacao: 2.9995\n",
            "Aproximacao: 2.9998\n",
            "Aproximacao: 2.9999\n",
            "Aproximacao: 2.9999\n",
            "Aproximacao: 3.0000\n",
            "Raiz:  3.0000\n",
            "Iterações:  15\n"
          ],
          "name": "stdout"
        }
      ]
    },
    {
      "cell_type": "markdown",
      "metadata": {
        "id": "Ih6xqBWnGobJ",
        "colab_type": "text"
      },
      "source": [
        "\n",
        "Falsa Posição\n"
      ]
    },
    {
      "cell_type": "code",
      "metadata": {
        "id": "qxakG3bCGqy4",
        "colab_type": "code",
        "colab": {
          "base_uri": "https://localhost:8080/",
          "height": 204
        },
        "outputId": "91892977-bfd4-47c2-a1d3-ece4433ad506"
      },
      "source": [
        "import math\n",
        "\n",
        "\n",
        "def func( x ): \n",
        "    #return  -12 - (21 * x) + (18 * math.pow(x,2)) - (2.75 * math.pow(x,3)) # exercicio 1\n",
        "    #return math.log(x*x) - 0.7 # exercicio 2\n",
        "    #return (0.95 * math.pow(x,3)) - (5.9 * math.pow(x,2)) + (10.9 * x) - 6 # (exercicio 3)\n",
        "     #return (8 * math.sin(x)) * (math.e**(-x)) - 1 # (exercicio 4)\n",
        "    #return math.pow(x,5) - ((10/3) * math.pow(x,3)) + ((5/21) * x) # (exercicio 5)\n",
        "    #return math.exp(-x**2) - math.cos(x) # (exercicio 6a)\n",
        "    #return  x**3 - x -1 # (exercicio 6b)\n",
        "    #return 4 * math.sin(x) - math.exp(x) # (exercicios 6c)\n",
        "    return  x * math.log(x) - 1 # (exericicios 6d)\n",
        "\n",
        "\n",
        "def falsaposicao( a , b): \n",
        "    c = a \n",
        "    count = 1\n",
        "    \n",
        "    while(abs(func(c))>=e):\n",
        "        c = (a*func(b) - b*func(a))/(func(b)-func(a)) \n",
        "        if func(c) * func(a) < 0: \n",
        "            b = c\n",
        "            count+=1  \n",
        "        else: \n",
        "            a = c\n",
        "            count+=1 \n",
        "        print('Aproximacao: {:.4f}'.format(c)) \n",
        "    \n",
        "    return count,c\n",
        "#dados de entrada do algoritmo\n",
        "a = 2\n",
        "b = 3\n",
        "c = 0\n",
        "e=0.0000001\n",
        "\n",
        "resposta = falsaposicao(a,b)\n",
        "print(\"Raiz:  {:.4f}\".format(resposta[1]))\n",
        "print(\"Iterações: \", resposta[0])\n"
      ],
      "execution_count": null,
      "outputs": [
        {
          "output_type": "stream",
          "text": [
            "Aproximacao: 1.7977\n",
            "Aproximacao: 1.7685\n",
            "Aproximacao: 1.7640\n",
            "Aproximacao: 1.7634\n",
            "Aproximacao: 1.7632\n",
            "Aproximacao: 1.7632\n",
            "Aproximacao: 1.7632\n",
            "Aproximacao: 1.7632\n",
            "Aproximacao: 1.7632\n",
            "Raiz:  1.7632\n",
            "Iterações:  10\n"
          ],
          "name": "stdout"
        }
      ]
    },
    {
      "cell_type": "markdown",
      "metadata": {
        "id": "s8fkpnYAHe2r",
        "colab_type": "text"
      },
      "source": [
        "Newton-Raphson(Tangente)"
      ]
    },
    {
      "cell_type": "code",
      "metadata": {
        "id": "CyzSjsOWzlco",
        "colab_type": "code",
        "colab": {
          "base_uri": "https://localhost:8080/",
          "height": 459
        },
        "outputId": "d4dbefee-1180-4480-a8f0-609af3871d06"
      },
      "source": [
        "import math\n",
        "\n",
        "#entradas do algoritmo\n",
        "x0= 2.5\n",
        "count = 1\n",
        "aprox = x0\n",
        "\n",
        "\n",
        "def func(x): \n",
        "\t#return (0.95 * math.pow(x,3)) - (5.9 * math.pow(x,2)) + (10.9 * x) - 6 # (exercicio 3)\n",
        "    #return (8 * math.sin(x)) * (math.e**(-x)) - 1 # (exercicio 4)\n",
        "    #return math.pow(x,5) - ((10/3) * math.pow(x,3)) + ((5/21) * x) # (exercicio 5)\n",
        "    #return math.exp(-x**2) - math.cos(x) # (exercicio 6a)\n",
        "    #return  x**3 - x -1 # (exercicio 6b)\n",
        "    #return\t4 * math.sin(x) - math.exp(x) # (exercicios 6c)\n",
        "\treturn\tx * math.log(x) - 1 # (exericicios 6d)\n",
        "\n",
        "\n",
        "def derivada(x):  \n",
        "\t\t#return (2.85 * math.pow(x,2)) - (11.8 * x) + 10.9 # (exercicio 3)\n",
        "    #return ((-8 * math.e**(-x)) * math.sin(x)) + ((8 * math.e**(-x)) * math.cos(x)) # (exercicio 4)\n",
        "    #return (5 * math.pow(x,4)) - (10 * math.pow(x,2)) + (5 / 21) # (exercicio 5)\n",
        "    #return ((-2*math.exp(-x**2))*x) + math.sin(x) # (exercicio 6a)\n",
        "    #return 3*x**2 - 1 # (exercicio 6b)\n",
        "    #return -math.exp(x) + 4*math.cos(x) # (exercicio 6c)\n",
        "    \n",
        "    return 1/math.log(10) + math.log(x) # (exercicio 6d)\n",
        "def iteração():\n",
        "\t\n",
        "\tglobal aprox\n",
        "\n",
        "\tc = func(aprox)/derivada(aprox)\n",
        "\taprox = aprox - c\n",
        "\tprint('Aproximacao: {:.4f}'.format(aprox))\n",
        "\n",
        "\treturn aprox\n",
        "\n",
        "\n",
        "def newton():\n",
        "\n",
        "\tglobal aprox,count,x0\n",
        "\n",
        "\te=0.000001\n",
        "\tx0 = func(x0)/derivada(x0)\n",
        "\taprox = aprox - x0\n",
        "\tprint('Aproximacao: {:.4f}'.format(aprox))\n",
        "\t\n",
        "\twhile(abs(func(aprox))>e):\n",
        "\t\taprox = iteração()\n",
        "\t\tcount+=1\n",
        "\t\t#if(count>3):\n",
        "\t\t\t#break\n",
        "\t\t \n",
        "\tprint(\"Raiz:  {:.4f}\".format(aprox))\n",
        "\tprint(\"Iterações: {:d}\".format(count))\n",
        "\t\n",
        "newton()"
      ],
      "execution_count": null,
      "outputs": [
        {
          "output_type": "stream",
          "text": [
            "Aproximacao: 1.5443\n",
            "Aproximacao: 1.9228\n",
            "Aproximacao: 1.6865\n",
            "Aproximacao: 1.8104\n",
            "Aproximacao: 1.7379\n",
            "Aproximacao: 1.7779\n",
            "Aproximacao: 1.7550\n",
            "Aproximacao: 1.7679\n",
            "Aproximacao: 1.7606\n",
            "Aproximacao: 1.7647\n",
            "Aproximacao: 1.7624\n",
            "Aproximacao: 1.7637\n",
            "Aproximacao: 1.7630\n",
            "Aproximacao: 1.7634\n",
            "Aproximacao: 1.7631\n",
            "Aproximacao: 1.7633\n",
            "Aproximacao: 1.7632\n",
            "Aproximacao: 1.7632\n",
            "Aproximacao: 1.7632\n",
            "Aproximacao: 1.7632\n",
            "Aproximacao: 1.7632\n",
            "Aproximacao: 1.7632\n",
            "Aproximacao: 1.7632\n",
            "Aproximacao: 1.7632\n",
            "Raiz:  1.7632\n",
            "Iterações: 24\n"
          ],
          "name": "stdout"
        }
      ]
    },
    {
      "cell_type": "markdown",
      "metadata": {
        "id": "vOSq8YaIzrCX",
        "colab_type": "text"
      },
      "source": [
        "Secante\n"
      ]
    },
    {
      "cell_type": "code",
      "metadata": {
        "id": "cSxl9UlazsLO",
        "colab_type": "code",
        "colab": {
          "base_uri": "https://localhost:8080/",
          "height": 238
        },
        "outputId": "9de0c448-17ee-4e8f-a636-023be0fc00ad"
      },
      "source": [
        "import math\n",
        "\n",
        "def func(x): \n",
        "\t\t\n",
        "\t\t#return (0.95 * math.pow(x,3)) - (5.9 * math.pow(x,2)) + (10.9 * x) - 6 # (exercicio 3)\n",
        "   \t\t#return (8 * math.sin(x)) * (math.e**(-x)) - 1 # (exercicio 4)\n",
        "    \t#return math.pow(x,5) - ((10/3) * math.pow(x,3)) + ((5/21) * x) # (exercicio 5)\n",
        "    \t#return math.exp(-x**2) - math.cos(x) # (exercicio 6a)\n",
        "    \t#return  x**3 - x -1 # (exercicio 6b)\n",
        "    \t#return\t4 * math.sin(x) - math.exp(x) # (exercicios 6c)\n",
        "\t\treturn\tx * math.log(x) - 1 # (exericicios 6d)\n",
        "    \n",
        "\n",
        "def secante(x1, x2): \n",
        "\tcount = 0; x0 = 0; c = 0\n",
        "\te = 0.0000001\n",
        "\tXK = 0\n",
        "\t\t\n",
        "\twhile True: \n",
        "\t\tx0 = ((func(x2)* x1-x2 * func(x1)) / (func(x2)-func(x1))) \n",
        "\t\t\t\n",
        "\t\tx1 = x2; \n",
        "\t\tx2 = x0; \n",
        "\t\t\t\n",
        "\t\tprint('Iteração: ({:d})'.format(count))\n",
        "\t\tprint('Aproximacao: {:.4f}'.format(x0))\n",
        "\t\tcount+=1\n",
        "\t\t\t\n",
        "\t\tXK= ((func(x2)* x1-x2 * func(x1)) / (func(x2) - func(x1)))\n",
        "\t\t\t\n",
        "\t\t\t\n",
        "\t\t#if(count==3):\t#caso a condição de parada seja um numero limite de iteraçoes, então usa esse if\n",
        "\t\t\t#break\n",
        "\t\t\t\n",
        "\t\tif(abs(XK - x0) < e): #caso a condição de parada seja um numero 'e' dado, então usa esse if e ativa a variavel XK \n",
        "\t\t\t\t\t\t\t\t   #e a variavel 'e'\n",
        "\t\t\tbreak\n",
        "\t\tprint('-----------------------')\n",
        "\t\t\n",
        "\tprint(\"-----------Raiz:  {:.4f}-----------\\n\".format(x0))\n",
        "\n",
        "#dados de entrada do algoritmo\t\t\n",
        "x1 = 2\n",
        "x2 = 3\n",
        "secante(x1, x2)"
      ],
      "execution_count": null,
      "outputs": [
        {
          "output_type": "stream",
          "text": [
            "Iteração: (0)\n",
            "Aproximacao: 1.7977\n",
            "-----------------------\n",
            "Iteração: (1)\n",
            "Aproximacao: 1.7685\n",
            "-----------------------\n",
            "Iteração: (2)\n",
            "Aproximacao: 1.7633\n",
            "-----------------------\n",
            "Iteração: (3)\n",
            "Aproximacao: 1.7632\n",
            "-----------Raiz:  1.7632-----------\n",
            "\n"
          ],
          "name": "stdout"
        }
      ]
    },
    {
      "cell_type": "markdown",
      "metadata": {
        "id": "tSD4gCPgkqa9",
        "colab_type": "text"
      },
      "source": [
        "Gráficos"
      ]
    },
    {
      "cell_type": "markdown",
      "metadata": {
        "id": "gOcW0gabs3_P",
        "colab_type": "text"
      },
      "source": [
        "Exercício 3-a"
      ]
    },
    {
      "cell_type": "code",
      "metadata": {
        "id": "udV8XWWMlo0L",
        "colab_type": "code",
        "colab": {}
      },
      "source": [
        "import matplotlib.pyplot as plt\n",
        "import numpy as np\n",
        "import math"
      ],
      "execution_count": null,
      "outputs": []
    },
    {
      "cell_type": "code",
      "metadata": {
        "id": "1MeZRUNWmHI9",
        "colab_type": "code",
        "colab": {}
      },
      "source": [
        "f_x = lambda x: (0.95 * math.pow(x,3)) - (5.9 * math.pow(x,2)) + (10.9 * x) - 6"
      ],
      "execution_count": null,
      "outputs": []
    },
    {
      "cell_type": "code",
      "metadata": {
        "id": "ge6TZxKUnH1V",
        "colab_type": "code",
        "colab": {}
      },
      "source": [
        "inicio = 2.5\n",
        "fim = 3.5\n",
        "nPontos = 100"
      ],
      "execution_count": null,
      "outputs": []
    },
    {
      "cell_type": "code",
      "metadata": {
        "id": "LsFGrrQnoKZR",
        "colab_type": "code",
        "colab": {
          "base_uri": "https://localhost:8080/",
          "height": 312
        },
        "outputId": "998368c6-ea0d-4be7-8ad0-192484857f1a"
      },
      "source": [
        "curva = np.linspace(inicio,fim,nPontos)\n",
        "\n",
        "valores = [f_x(valor) for valor in curva]\n",
        "plt.plot(curva, valores, linestyle='-')\n",
        "plt.grid()\n",
        "plt.xlabel(\"x\")\n",
        "plt.ylabel(\"f(x)\")\n",
        "plt.title(\"Exercício 3-a\")\n",
        "\n",
        "plt.show\n"
      ],
      "execution_count": null,
      "outputs": [
        {
          "output_type": "execute_result",
          "data": {
            "text/plain": [
              "<function matplotlib.pyplot.show>"
            ]
          },
          "metadata": {
            "tags": []
          },
          "execution_count": 21
        },
        {
          "output_type": "display_data",
          "data": {
            "image/png": "[encoded data removed]",
            "text/plain": [
              "<Figure size 432x288 with 1 Axes>"
            ]
          },
          "metadata": {
            "tags": [],
            "needs_background": "light"
          }
        }
      ]
    },
    {
      "cell_type": "code",
      "metadata": {
        "id": "Y-yx2cnJrLep",
        "colab_type": "code",
        "colab": {}
      },
      "source": [
        "import matplotlib.pyplot as plt\n",
        "import numpy as np\n",
        "import math"
      ],
      "execution_count": null,
      "outputs": []
    },
    {
      "cell_type": "markdown",
      "metadata": {
        "id": "hDn8KBfrsx8B",
        "colab_type": "text"
      },
      "source": [
        "Exercício 4-a"
      ]
    },
    {
      "cell_type": "code",
      "metadata": {
        "id": "gTtUJrokrPYw",
        "colab_type": "code",
        "colab": {}
      },
      "source": [
        "f_x = lambda x: (8 * math.sin(x)) * (math.e**(-x)) - 1"
      ],
      "execution_count": null,
      "outputs": []
    },
    {
      "cell_type": "code",
      "metadata": {
        "id": "jf08gRoercvR",
        "colab_type": "code",
        "colab": {}
      },
      "source": [
        "inicio1 = 0.5\n",
        "fim1 = 0.4\n",
        "nPontos1 = 100"
      ],
      "execution_count": null,
      "outputs": []
    },
    {
      "cell_type": "code",
      "metadata": {
        "id": "hP2i9gr6rj4e",
        "colab_type": "code",
        "colab": {
          "base_uri": "https://localhost:8080/",
          "height": 312
        },
        "outputId": "451d1c50-b446-4783-dcec-288b147cb4bb"
      },
      "source": [
        "curva1 = np.linspace(inicio1,fim1,nPontos1)\n",
        "valores1 = [f_x(valor1) for valor1 in curva1]\n",
        "plt.plot(curva1, valores1, linestyle='-')\n",
        "plt.grid()\n",
        "plt.xlabel(\"x\")\n",
        "plt.ylabel(\"f(x)\")\n",
        "plt.title(\"Exercício 4-a\")\n",
        "plt.show\n"
      ],
      "execution_count": null,
      "outputs": [
        {
          "output_type": "execute_result",
          "data": {
            "text/plain": [
              "<function matplotlib.pyplot.show>"
            ]
          },
          "metadata": {
            "tags": []
          },
          "execution_count": 22
        },
        {
          "output_type": "display_data",
          "data": {
            "image/png": "[encoded data removed]",
            "text/plain": [
              "<Figure size 432x288 with 1 Axes>"
            ]
          },
          "metadata": {
            "tags": [],
            "needs_background": "light"
          }
        }
      ]
    },
    {
      "cell_type": "markdown",
      "metadata": {
        "id": "t3-uB-JltHnl",
        "colab_type": "text"
      },
      "source": [
        "Exercício 5-x1"
      ]
    },
    {
      "cell_type": "code",
      "metadata": {
        "id": "QSf3GMYStBgF",
        "colab_type": "code",
        "colab": {}
      },
      "source": [
        "import matplotlib.pyplot as plt\n",
        "import numpy as np\n",
        "import math"
      ],
      "execution_count": null,
      "outputs": []
    },
    {
      "cell_type": "code",
      "metadata": {
        "id": "FH1memuRtLuq",
        "colab_type": "code",
        "colab": {}
      },
      "source": [
        "f_x = lambda x: math.pow(x,5) - ((10/3) * math.pow(x,3)) + ((5/21) * x)"
      ],
      "execution_count": null,
      "outputs": []
    },
    {
      "cell_type": "code",
      "metadata": {
        "id": "Nv0zxSzetUSB",
        "colab_type": "code",
        "colab": {}
      },
      "source": [
        "inicio2 = 1\n",
        "fim2 = -0.75\n",
        "nPontos2 = 100"
      ],
      "execution_count": null,
      "outputs": []
    },
    {
      "cell_type": "code",
      "metadata": {
        "id": "LiCk8WAzt7vs",
        "colab_type": "code",
        "colab": {
          "base_uri": "https://localhost:8080/",
          "height": 312
        },
        "outputId": "82fb473c-7fdc-46d4-9724-74419cab1473"
      },
      "source": [
        "curva2 = np.linspace(inicio2,fim2,nPontos2)\n",
        "valores2 = [f_x(valor2) for valor2 in curva2]\n",
        "plt.plot(curva2, valores2, linestyle='-')\n",
        "plt.grid()\n",
        "plt.xlabel(\"x\")\n",
        "plt.ylabel(\"f(x)\")\n",
        "plt.title(\"Exercício 5-x1\")\n",
        "plt.show"
      ],
      "execution_count": null,
      "outputs": [
        {
          "output_type": "execute_result",
          "data": {
            "text/plain": [
              "<function matplotlib.pyplot.show>"
            ]
          },
          "metadata": {
            "tags": []
          },
          "execution_count": 26
        },
        {
          "output_type": "display_data",
          "data": {
            "image/png": "[encoded data removed]",
            "text/plain": [
              "<Figure size 432x288 with 1 Axes>"
            ]
          },
          "metadata": {
            "tags": [],
            "needs_background": "light"
          }
        }
      ]
    },
    {
      "cell_type": "markdown",
      "metadata": {
        "id": "6fglW4uZuKUF",
        "colab_type": "text"
      },
      "source": [
        "Exercício 5-x2"
      ]
    },
    {
      "cell_type": "code",
      "metadata": {
        "id": "xEYJGHLkvZwI",
        "colab_type": "code",
        "colab": {}
      },
      "source": [
        "import matplotlib.pyplot as plt\n",
        "import numpy as np\n",
        "import math"
      ],
      "execution_count": null,
      "outputs": []
    },
    {
      "cell_type": "code",
      "metadata": {
        "id": "HlZcAb6vvcDZ",
        "colab_type": "code",
        "colab": {}
      },
      "source": [
        "f_x = lambda x: math.pow(x,5) - ((10/3) * math.pow(x,3)) + ((5/21) * x)"
      ],
      "execution_count": null,
      "outputs": []
    },
    {
      "cell_type": "code",
      "metadata": {
        "id": "9n_Jz3dNvedX",
        "colab_type": "code",
        "colab": {}
      },
      "source": [
        "inicio3 = -0.75\n",
        "fim3 = -0.25\n",
        "nPontos3 = 100"
      ],
      "execution_count": null,
      "outputs": []
    },
    {
      "cell_type": "code",
      "metadata": {
        "id": "Ogxs8LFCvh5T",
        "colab_type": "code",
        "colab": {
          "base_uri": "https://localhost:8080/",
          "height": 312
        },
        "outputId": "75d780f4-39c1-4c8c-8650-81761f5694e9"
      },
      "source": [
        "curva3 = np.linspace(inicio3,fim3,nPontos3)\n",
        "valores3 = [f_x(valor3) for valor3 in curva3]\n",
        "plt.plot(curva3, valores3, linestyle='-')\n",
        "plt.grid()\n",
        "plt.xlabel(\"x\")\n",
        "plt.ylabel(\"f(x)\")\n",
        "plt.title(\"Exercício 5-x2\")\n",
        "plt.show"
      ],
      "execution_count": null,
      "outputs": [
        {
          "output_type": "execute_result",
          "data": {
            "text/plain": [
              "<function matplotlib.pyplot.show>"
            ]
          },
          "metadata": {
            "tags": []
          },
          "execution_count": 32
        },
        {
          "output_type": "display_data",
          "data": {
            "image/png": "[encoded data removed]",
            "text/plain": [
              "<Figure size 432x288 with 1 Axes>"
            ]
          },
          "metadata": {
            "tags": [],
            "needs_background": "light"
          }
        }
      ]
    },
    {
      "cell_type": "markdown",
      "metadata": {
        "id": "ru6YtKicwAcN",
        "colab_type": "text"
      },
      "source": [
        "Exercício 5-x3"
      ]
    },
    {
      "cell_type": "code",
      "metadata": {
        "id": "LDxxmnmpwDIq",
        "colab_type": "code",
        "colab": {}
      },
      "source": [
        "import matplotlib.pyplot as plt\n",
        "import numpy as np\n",
        "import math"
      ],
      "execution_count": null,
      "outputs": []
    },
    {
      "cell_type": "code",
      "metadata": {
        "id": "D9F_OH_6wGAA",
        "colab_type": "code",
        "colab": {}
      },
      "source": [
        "f_x = lambda x: math.pow(x,5) - ((10/3) * math.pow(x,3)) + ((5/21) * x)"
      ],
      "execution_count": null,
      "outputs": []
    },
    {
      "cell_type": "code",
      "metadata": {
        "id": "tQzcy3BlwI99",
        "colab_type": "code",
        "colab": {}
      },
      "source": [
        "inicio4 = -0.25\n",
        "fim4 = 0.25\n",
        "nPontos4 = 100"
      ],
      "execution_count": null,
      "outputs": []
    },
    {
      "cell_type": "code",
      "metadata": {
        "id": "M1LpjD9iwSpY",
        "colab_type": "code",
        "colab": {
          "base_uri": "https://localhost:8080/",
          "height": 312
        },
        "outputId": "649cf81d-2873-456f-ccd6-fdcde296bcac"
      },
      "source": [
        "curva4 = np.linspace(inicio4,fim4,nPontos4)\n",
        "valores4 = [f_x(valor4) for valor4 in curva4]\n",
        "plt.plot(curva4, valores4, linestyle='-')\n",
        "plt.grid()\n",
        "plt.xlabel(\"x\")\n",
        "plt.ylabel(\"f(x)\")\n",
        "plt.title(\"Exercício 5-x3\")\n",
        "plt.show"
      ],
      "execution_count": null,
      "outputs": [
        {
          "output_type": "execute_result",
          "data": {
            "text/plain": [
              "<function matplotlib.pyplot.show>"
            ]
          },
          "metadata": {
            "tags": []
          },
          "execution_count": 36
        },
        {
          "output_type": "display_data",
          "data": {
            "image/png": "[encoded data removed]",
            "text/plain": [
              "<Figure size 432x288 with 1 Axes>"
            ]
          },
          "metadata": {
            "tags": [],
            "needs_background": "light"
          }
        }
      ]
    },
    {
      "cell_type": "markdown",
      "metadata": {
        "id": "4csTIa1twftp",
        "colab_type": "text"
      },
      "source": [
        "Exerccício 5-x4"
      ]
    },
    {
      "cell_type": "code",
      "metadata": {
        "id": "7E4ZYFdowjdf",
        "colab_type": "code",
        "colab": {}
      },
      "source": [
        "import matplotlib.pyplot as plt\n",
        "import numpy as np\n",
        "import math"
      ],
      "execution_count": null,
      "outputs": []
    },
    {
      "cell_type": "code",
      "metadata": {
        "id": "DvJGeNvYwlq1",
        "colab_type": "code",
        "colab": {}
      },
      "source": [
        "f_x = lambda x: math.pow(x,5) - ((10/3) * math.pow(x,3)) + ((5/21) * x)"
      ],
      "execution_count": null,
      "outputs": []
    },
    {
      "cell_type": "code",
      "metadata": {
        "id": "QuuUQ8H-wnwG",
        "colab_type": "code",
        "colab": {}
      },
      "source": [
        "inicio5 = 0.3\n",
        "fim5 = 0.8\n",
        "nPontos5 = 100"
      ],
      "execution_count": null,
      "outputs": []
    },
    {
      "cell_type": "code",
      "metadata": {
        "id": "VbFrGUkWwxiq",
        "colab_type": "code",
        "colab": {
          "base_uri": "https://localhost:8080/",
          "height": 312
        },
        "outputId": "1f42b886-8e7b-42b1-c417-f4a94194e806"
      },
      "source": [
        "curva5 = np.linspace(inicio5,fim5,nPontos5)\n",
        "valores5 = [f_x(valor5) for valor5 in curva5]\n",
        "plt.plot(curva5, valores5, linestyle='-')\n",
        "plt.grid()\n",
        "plt.xlabel(\"x\")\n",
        "plt.ylabel(\"f(x)\")\n",
        "plt.title(\"Exercício 5-x4\")\n",
        "plt.show"
      ],
      "execution_count": null,
      "outputs": [
        {
          "output_type": "execute_result",
          "data": {
            "text/plain": [
              "<function matplotlib.pyplot.show>"
            ]
          },
          "metadata": {
            "tags": []
          },
          "execution_count": 41
        },
        {
          "output_type": "display_data",
          "data": {
            "image/png": "[encoded data removed]",
            "text/plain": [
              "<Figure size 432x288 with 1 Axes>"
            ]
          },
          "metadata": {
            "tags": [],
            "needs_background": "light"
          }
        }
      ]
    },
    {
      "cell_type": "markdown",
      "metadata": {
        "id": "Ujw0vyrAxA4T",
        "colab_type": "text"
      },
      "source": [
        "Exercício 5-x5"
      ]
    },
    {
      "cell_type": "code",
      "metadata": {
        "id": "zTZlhnWHxEI7",
        "colab_type": "code",
        "colab": {}
      },
      "source": [
        "import matplotlib.pyplot as plt\n",
        "import numpy as np\n",
        "import math"
      ],
      "execution_count": null,
      "outputs": []
    },
    {
      "cell_type": "code",
      "metadata": {
        "id": "X8XhBJRrxGtH",
        "colab_type": "code",
        "colab": {}
      },
      "source": [
        "f_x = lambda x: math.pow(x,5) - ((10/3) * math.pow(x,3)) + ((5/21) * x)"
      ],
      "execution_count": null,
      "outputs": []
    },
    {
      "cell_type": "code",
      "metadata": {
        "id": "I9Ct06ifxJJK",
        "colab_type": "code",
        "colab": {}
      },
      "source": [
        "inicio6 = 0.8\n",
        "fim6 = 1.0\n",
        "nPontos6 = 100"
      ],
      "execution_count": null,
      "outputs": []
    },
    {
      "cell_type": "code",
      "metadata": {
        "id": "9tZmi4E_xOsS",
        "colab_type": "code",
        "colab": {
          "base_uri": "https://localhost:8080/",
          "height": 312
        },
        "outputId": "bcb11fec-d539-4927-b5bd-9cbe7d9bce1a"
      },
      "source": [
        "curva6 = np.linspace(inicio6,fim6,nPontos6)\n",
        "valores6 = [f_x(valor6) for valor6 in curva6]\n",
        "plt.plot(curva6, valores6, linestyle='-')\n",
        "plt.grid()\n",
        "plt.xlabel(\"x\")\n",
        "plt.ylabel(\"f(x)\")\n",
        "plt.title(\"Exercício 5-x5\")\n",
        "plt.show"
      ],
      "execution_count": null,
      "outputs": [
        {
          "output_type": "execute_result",
          "data": {
            "text/plain": [
              "<function matplotlib.pyplot.show>"
            ]
          },
          "metadata": {
            "tags": []
          },
          "execution_count": 54
        },
        {
          "output_type": "display_data",
          "data": {
            "image/png": "[encoded data removed]",
            "text/plain": [
              "<Figure size 432x288 with 1 Axes>"
            ]
          },
          "metadata": {
            "tags": [],
            "needs_background": "light"
          }
        }
      ]
    }
  ]
}